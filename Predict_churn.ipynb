{
 "cells": [
  {
   "cell_type": "markdown",
   "metadata": {},
   "source": [
    "# Business Problem Overview\n",
    "\n",
    "In the telecom industry, customers are able to choose from multiple service providers and actively switch from one operator to another. In this highly competitive market, the telecommunications industry experiences an average of 15-25% annual churn rate. Given the fact that it costs 5-10 times more to acquire a new customer than to retain an existing one, customer retention has now become even more important than customer acquisition.\n",
    "\n",
    " \n",
    "\n",
    "For many incumbent operators, retaining high profitable customers is the number one business goal.\n",
    "\n",
    " \n",
    "\n",
    "To reduce customer churn, telecom companies need to predict which customers are at high risk of churn.\n",
    "\n",
    " \n",
    "\n",
    "In this project, you will analyse customer-level data of a leading telecom firm, build predictive models to identify customers at high risk of churn and identify the main indicators of churn.\n",
    "\n",
    " \n",
    "## Understanding and Defining Churn\n",
    "\n",
    "There are two main models of payment in the telecom industry - postpaid (customers pay a monthly/annual bill after using the services) and prepaid (customers pay/recharge with a certain amount in advance and then use the services).\n",
    "\n",
    "In the postpaid model, when customers want to switch to another operator, they usually inform the existing operator to terminate the services, and you directly know that this is an instance of churn.\n",
    "\n",
    "However, in the prepaid model, customers who want to switch to another network can simply stop using the services without any notice, and it is hard to know whether someone has actually churned or is simply not using the services temporarily (e.g. someone may be on a trip abroad for a month or two and then intend to resume using the services again).\n",
    "\n",
    "Thus, churn prediction is usually more critical (and non-trivial) for prepaid customers, and the term ‘churn’ should be defined carefully.  Also, prepaid is the most common model in India and southeast Asia, while postpaid is more common in Europe in North America.\n",
    "\n",
    "This project is based on the Indian and Southeast Asian market.\n",
    "\n",
    "## Definitions of Churn\n",
    "\n",
    "There are various ways to define churn, such as:\n",
    "\n",
    "#### Revenue-based churn: \n",
    "Customers who have not utilised any revenue-generating facilities such as mobile internet, outgoing calls, SMS etc. over a given period of time. One could also use aggregate metrics such as _**‘customers who have generated less than INR 4 per month in total/average/median revenue’**_.\n",
    "\n",
    "The main shortcoming of this definition is that there are customers who only receive calls/SMSes from their wage-earning counterparts, i.e. they don’t generate revenue but use the services. For example, many users in rural areas only receive calls from their wage-earning siblings in urban areas.\n",
    "\n",
    "#### Usage-based churn: \n",
    "Customers **who have not done any usage, either incoming or outgoing - in terms of calls, internet etc. over a period of time**.\n",
    "\n",
    "    A potential shortcoming of this definition is that when the customer has stopped using the services for a while, it may be too late to take any corrective actions to retain them. For e.g., if you define churn based on a ‘two-months zero usage’ period, predicting churn could be useless since by that time the customer would have already switched to another operator.\n",
    "\n",
    "In this project, you will use the **usage-based definition to define _churn_ **.\n",
    "\n",
    " \n",
    "### High-value Churn\n",
    "\n",
    "In the Indian and the southeast Asian market,\n",
    "\n",
    "    approximately 80% of revenue comes from the top 20% customers (called high-value customers). \n",
    "  \n",
    "Thus, if we can reduce churn of the high-value customers, we will be able to reduce significant revenue leakage.\n",
    "\n",
    "In this project, you will define high-value customers based on a certain metric (mentioned later below) and predict churn only on high-value customers.\n",
    "\n",
    " \n",
    "### Understanding the Business Objective and the Data\n",
    "\n",
    "The dataset contains customer-level information for a span of four consecutive months - June, July, August and September. The months are encoded as 6, 7, 8 and 9, respectively. \n",
    "\n",
    "\n",
    "The business objective is to predict the churn in the last (i.e. the ninth) month using the data (features) from the first three months. To do this task well, understanding the typical customer behaviour during churn will be helpful.\n",
    "\n",
    " \n",
    "### Understanding Customer Behaviour During Churn\n",
    "\n",
    "Customers usually do not decide to switch to another competitor instantly, but rather over a period of time (this is especially applicable to high-value customers). In churn prediction, we assume that there are three phases of customer lifecycle :\n",
    "\n",
    "    The ‘good’ phase: In this phase, the customer is happy with the service and behaves as usual.\n",
    "\n",
    "    The ‘action’ phase: The customer experience starts to sore in this phase, for e.g. he/she gets a compelling offer from a  competitor, faces unjust charges, becomes unhappy with service quality etc. In this phase, the customer usually shows different behaviour than the ‘good’ months. Also, it is crucial to identify high-churn-risk customers in this phase, since some corrective actions can be taken at this point (such as matching the competitor’s offer/improving the service quality etc.)\n",
    "\n",
    "    The ‘churn’ phase: In this phase, the customer is said to have churned. You define churn based on this phase. Also, it is important to note that at the time of prediction (i.e. the action months), this data is not available to you for prediction. Thus, after tagging churn as 1/0 based on this phase, you discard all data corresponding to this phase.\n",
    "\n",
    " \n",
    "\n",
    "In this case, since you are working over a four-month window, the first two months are the ‘good’ phase, the third month is the ‘action’ phase, while the fourth month is the ‘churn’ phase."
   ]
  },
  {
   "cell_type": "code",
   "execution_count": 1,
   "metadata": {},
   "outputs": [],
   "source": [
    "import pandas as pd\n",
    "import seaborn as sns\n",
    "import numpy as np\n",
    "import matplotlib.pyplot as plt"
   ]
  },
  {
   "cell_type": "markdown",
   "metadata": {},
   "source": [
    "# Load the data\n",
    "Load the churn data for the telecom provider"
   ]
  },
  {
   "cell_type": "code",
   "execution_count": 13,
   "metadata": {},
   "outputs": [],
   "source": [
    "churn_data = pd.read_csv('telecom_churn_data.csv')"
   ]
  },
  {
   "cell_type": "code",
   "execution_count": 14,
   "metadata": {},
   "outputs": [],
   "source": [
    "total_records = churn_data.shape[0]"
   ]
  },
  {
   "cell_type": "code",
   "execution_count": null,
   "metadata": {
    "scrolled": true
   },
   "outputs": [],
   "source": []
  },
  {
   "cell_type": "code",
   "execution_count": 15,
   "metadata": {},
   "outputs": [],
   "source": [
    "missing_value_percentage = round(100 * churn_data.isnull().sum().sort_values(ascending=False) / total_records, 2)\n"
   ]
  },
  {
   "cell_type": "code",
   "execution_count": 16,
   "metadata": {},
   "outputs": [
    {
     "data": {
      "text/plain": [
       "count_rech_2g_6             74.85\n",
       "date_of_last_rech_data_6    74.85\n",
       "count_rech_3g_6             74.85\n",
       "av_rech_amt_data_6          74.85\n",
       "max_rech_data_6             74.85\n",
       "total_rech_data_6           74.85\n",
       "arpu_3g_6                   74.85\n",
       "arpu_2g_6                   74.85\n",
       "night_pck_user_6            74.85\n",
       "fb_user_6                   74.85\n",
       "arpu_3g_7                   74.43\n",
       "count_rech_2g_7             74.43\n",
       "fb_user_7                   74.43\n",
       "count_rech_3g_7             74.43\n",
       "arpu_2g_7                   74.43\n",
       "av_rech_amt_data_7          74.43\n",
       "max_rech_data_7             74.43\n",
       "night_pck_user_7            74.43\n",
       "total_rech_data_7           74.43\n",
       "date_of_last_rech_data_7    74.43\n",
       "night_pck_user_9            74.08\n",
       "date_of_last_rech_data_9    74.08\n",
       "fb_user_9                   74.08\n",
       "arpu_2g_9                   74.08\n",
       "max_rech_data_9             74.08\n",
       "arpu_3g_9                   74.08\n",
       "total_rech_data_9           74.08\n",
       "av_rech_amt_data_9          74.08\n",
       "count_rech_3g_9             74.08\n",
       "count_rech_2g_9             74.08\n",
       "fb_user_8                   73.66\n",
       "av_rech_amt_data_8          73.66\n",
       "count_rech_3g_8             73.66\n",
       "count_rech_2g_8             73.66\n",
       "date_of_last_rech_data_8    73.66\n",
       "total_rech_data_8           73.66\n",
       "max_rech_data_8             73.66\n",
       "arpu_3g_8                   73.66\n",
       "arpu_2g_8                   73.66\n",
       "night_pck_user_8            73.66\n",
       "dtype: float64"
      ]
     },
     "execution_count": 16,
     "metadata": {},
     "output_type": "execute_result"
    }
   ],
   "source": [
    "missing_value_percentage[missing_value_percentage > 50.0]"
   ]
  },
  {
   "cell_type": "markdown",
   "metadata": {},
   "source": [
    "### Functions"
   ]
  },
  {
   "cell_type": "code",
   "execution_count": 17,
   "metadata": {},
   "outputs": [],
   "source": [
    "def plot_triangular(corr):\n",
    "    mask = np.zeros_like(corr, dtype=np.bool)\n",
    "    mask[np.triu_indices_from(mask)] = True\n",
    "\n",
    "    # Set up the matplotlib figure\n",
    "    f, ax = plt.subplots(figsize=(11, 9))\n",
    "\n",
    "    # Generate a custom diverging colormap\n",
    "    cmap = sns.diverging_palette(220, 10, as_cmap=True)\n",
    "\n",
    "    # Draw the heatmap with the mask and correct aspect ratio\n",
    "    sns.heatmap(corr, mask=mask, cmap=cmap, vmax=.3, annot=True, center=0,\n",
    "                square=True, linewidths=.5, cbar_kws={\"shrink\": .5})\n"
   ]
  },
  {
   "cell_type": "code",
   "execution_count": 18,
   "metadata": {},
   "outputs": [],
   "source": [
    "def impute_if_field_present(df, driver, toImpute, defaultVal=1, valIfAbsent=0 ):\n",
    "    \n",
    "    return None"
   ]
  },
  {
   "cell_type": "code",
   "execution_count": null,
   "metadata": {},
   "outputs": [],
   "source": []
  },
  {
   "cell_type": "markdown",
   "metadata": {},
   "source": [
    "#### Data cleaning\n"
   ]
  },
  {
   "cell_type": "code",
   "execution_count": 19,
   "metadata": {},
   "outputs": [
    {
     "data": {
      "text/plain": [
       "count_rech_2g_6             74.85\n",
       "date_of_last_rech_data_6    74.85\n",
       "count_rech_3g_6             74.85\n",
       "av_rech_amt_data_6          74.85\n",
       "max_rech_data_6             74.85\n",
       "total_rech_data_6           74.85\n",
       "count_rech_2g_7             74.43\n",
       "count_rech_3g_7             74.43\n",
       "av_rech_amt_data_7          74.43\n",
       "max_rech_data_7             74.43\n",
       "total_rech_data_7           74.43\n",
       "date_of_last_rech_data_7    74.43\n",
       "date_of_last_rech_data_9    74.08\n",
       "max_rech_data_9             74.08\n",
       "total_rech_data_9           74.08\n",
       "av_rech_amt_data_9          74.08\n",
       "count_rech_3g_9             74.08\n",
       "count_rech_2g_9             74.08\n",
       "av_rech_amt_data_8          73.66\n",
       "count_rech_3g_8             73.66\n",
       "count_rech_2g_8             73.66\n",
       "date_of_last_rech_data_8    73.66\n",
       "total_rech_data_8           73.66\n",
       "max_rech_data_8             73.66\n",
       "date_of_last_rech_9          4.76\n",
       "date_of_last_rech_8          3.62\n",
       "date_of_last_rech_7          1.77\n",
       "date_of_last_rech_6          1.61\n",
       "total_rech_num_6             0.00\n",
       "total_rech_num_7             0.00\n",
       "total_rech_num_8             0.00\n",
       "total_rech_num_9             0.00\n",
       "total_rech_amt_6             0.00\n",
       "total_rech_amt_7             0.00\n",
       "total_rech_amt_8             0.00\n",
       "total_rech_amt_9             0.00\n",
       "max_rech_amt_6               0.00\n",
       "max_rech_amt_7               0.00\n",
       "max_rech_amt_8               0.00\n",
       "max_rech_amt_9               0.00\n",
       "dtype: float64"
      ]
     },
     "execution_count": 19,
     "metadata": {},
     "output_type": "execute_result"
    }
   ],
   "source": [
    "missing_value_percentage.filter(like='rech')"
   ]
  },
  {
   "cell_type": "code",
   "execution_count": 20,
   "metadata": {},
   "outputs": [],
   "source": [
    "non_kpis_to_be_imputed =['max_rech_data_6', 'max_rech_data_7',  'max_rech_data_8', 'max_rech_data_9']\n",
    "#This valuses doesnpt drive the KPI will replace by zero as per instruction\n",
    "churn_data[non_kpis_to_be_imputed] = churn_data[non_kpis_to_be_imputed].fillna(0, axis=1)\n",
    "\n",
    "#impute the categorical variable NaN with -1\n",
    "cat_variables_to_be_imputed = ['night_pck_user_6', 'night_pck_user_7',\n",
    "                               'night_pck_user_8', 'night_pck_user_9',\n",
    "                               'fb_user_6', 'fb_user_7',\n",
    "                               'fb_user_8', 'fb_user_9']\n",
    "churn_data[cat_variables_to_be_imputed] = churn_data[cat_variables_to_be_imputed].fillna(-1, axis=1)"
   ]
  },
  {
   "cell_type": "code",
   "execution_count": 21,
   "metadata": {},
   "outputs": [],
   "source": [
    "#date dependant missing values\n",
    "kpis_imputed_wrt_date = dict( date_of_last_rech_data_6 = ['total_rech_data_6', \n",
    "                                                          'count_rech_2g_6', \n",
    "                                                          'count_rech_3g_6', 'av_rech_amt_data_6' ],\n",
    "                             date_of_last_rech_data_7 = ['total_rech_data_7', \n",
    "                                                          'count_rech_2g_7', \n",
    "                                                          'count_rech_3g_7', 'av_rech_amt_data_7' ], \n",
    "                             date_of_last_rech_data_8 = ['total_rech_data_8', \n",
    "                                                          'count_rech_2g_8', \n",
    "                                                          'count_rech_3g_8', 'av_rech_amt_data_8'],\n",
    "                             date_of_last_rech_data_9 = ['total_rech_data_9', \n",
    "                                                          'count_rech_2g_9', \n",
    "                                                          'count_rech_3g_9', 'av_rech_amt_data_9'])\n"
   ]
  },
  {
   "cell_type": "code",
   "execution_count": 22,
   "metadata": {},
   "outputs": [],
   "source": [
    "\n",
    "churn_data_clone = churn_data.copy()\n",
    "for date, fields in kpis_imputed_wrt_date.items():\n",
    "    churn_data_clone.loc[churn_data_clone[date].isnull(), fields] = churn_data_clone.loc[churn_data_clone[date].isnull(), fields].fillna(0)\n",
    "    churn_data_clone.loc[churn_data_clone[date].notnull(), fields] = churn_data_clone.loc[churn_data_clone[date].notnull(), fields].fillna(1)\n",
    "        \n"
   ]
  },
  {
   "cell_type": "markdown",
   "metadata": {},
   "source": [
    "#### Data visualization\n",
    "initial distribution "
   ]
  },
  {
   "cell_type": "code",
   "execution_count": null,
   "metadata": {},
   "outputs": [],
   "source": [
    "churn_data_jun = churn_data.filter(regex='(_6$|^jun_)')\n",
    "plt.figure(figsize=(20,10))\n",
    "sns.distplot(data=churn_data_jun.filter(like='arpu'))"
   ]
  },
  {
   "cell_type": "code",
   "execution_count": null,
   "metadata": {},
   "outputs": [],
   "source": []
  },
  {
   "cell_type": "code",
   "execution_count": null,
   "metadata": {},
   "outputs": [],
   "source": [
    "churn_data['avg_good_phase'] = churn_data[['c', 'total_rech_amt_7']].mean(axis=1)"
   ]
  },
  {
   "cell_type": "code",
   "execution_count": null,
   "metadata": {},
   "outputs": [],
   "source": [
    "churn_data_hv=churn_data[churn_data.avg_good_phase >= churn_data['avg_good_phase'].quantile(0.7)]"
   ]
  },
  {
   "cell_type": "code",
   "execution_count": null,
   "metadata": {},
   "outputs": [],
   "source": [
    "churn_data_hv.shape"
   ]
  },
  {
   "cell_type": "code",
   "execution_count": null,
   "metadata": {},
   "outputs": [],
   "source": [
    "churn_data_jun = churn_data.filter(regex='(_6$|^jun_)')\n",
    "churn_data_jul = churn_data.filter(regex='(_7$|^jul_)')\n",
    "churn_data_aug = churn_data.filter(regex='(_8$|^aug_)')\n",
    "churn_data_sep = churn_data.filter(regex='(_9$|^sep_)')"
   ]
  },
  {
   "cell_type": "code",
   "execution_count": null,
   "metadata": {},
   "outputs": [],
   "source": [
    "churn_data_jun."
   ]
  },
  {
   "cell_type": "code",
   "execution_count": null,
   "metadata": {},
   "outputs": [],
   "source": [
    "100*churn_data_jun.isnull().sum().sort_values(ascending=False) / total_records"
   ]
  },
  {
   "cell_type": "code",
   "execution_count": null,
   "metadata": {},
   "outputs": [],
   "source": [
    "churn_kpi = ['total_ic_mou_9','total_og_mou_9','vol_2g_mb_9', 'vol_3g_mb_9']\n",
    "churn_data_hv['churn'] = [1 if churned == 0 else 0 for churned in churn_data_hv[churn_kpi].sum(axis=1)]"
   ]
  },
  {
   "cell_type": "code",
   "execution_count": null,
   "metadata": {},
   "outputs": [],
   "source": [
    "churn_data_hv['churn'].shape"
   ]
  },
  {
   "cell_type": "code",
   "execution_count": null,
   "metadata": {},
   "outputs": [],
   "source": [
    "churn_data_hv.churn.sum() / churn_data_hv['churn'].shape[0]"
   ]
  },
  {
   "cell_type": "code",
   "execution_count": null,
   "metadata": {},
   "outputs": [],
   "source": []
  }
 ],
 "metadata": {
  "kernelspec": {
   "display_name": "Python 3",
   "language": "python",
   "name": "python3"
  },
  "language_info": {
   "codemirror_mode": {
    "name": "ipython",
    "version": 3
   },
   "file_extension": ".py",
   "mimetype": "text/x-python",
   "name": "python",
   "nbconvert_exporter": "python",
   "pygments_lexer": "ipython3",
   "version": "3.6.6"
  }
 },
 "nbformat": 4,
 "nbformat_minor": 2
}
