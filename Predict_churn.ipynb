{
 "cells": [
  {
   "cell_type": "markdown",
   "metadata": {},
   "source": [
    "# Business Problem Overview\n",
    "\n",
    "In the telecom industry, customers are able to choose from multiple service providers and actively switch from one operator to another. In this highly competitive market, the telecommunications industry experiences an average of 15-25% annual churn rate. Given the fact that it costs 5-10 times more to acquire a new customer than to retain an existing one, customer retention has now become even more important than customer acquisition.\n",
    "\n",
    " \n",
    "\n",
    "For many incumbent operators, retaining high profitable customers is the number one business goal.\n",
    "\n",
    " \n",
    "\n",
    "To reduce customer churn, telecom companies need to predict which customers are at high risk of churn.\n",
    "\n",
    " \n",
    "\n",
    "In this project, you will analyse customer-level data of a leading telecom firm, build predictive models to identify customers at high risk of churn and identify the main indicators of churn.\n",
    "\n",
    " \n",
    "## Understanding and Defining Churn\n",
    "\n",
    "There are two main models of payment in the telecom industry - postpaid (customers pay a monthly/annual bill after using the services) and prepaid (customers pay/recharge with a certain amount in advance and then use the services).\n",
    "\n",
    "In the postpaid model, when customers want to switch to another operator, they usually inform the existing operator to terminate the services, and you directly know that this is an instance of churn.\n",
    "\n",
    "However, in the prepaid model, customers who want to switch to another network can simply stop using the services without any notice, and it is hard to know whether someone has actually churned or is simply not using the services temporarily (e.g. someone may be on a trip abroad for a month or two and then intend to resume using the services again).\n",
    "\n",
    "Thus, churn prediction is usually more critical (and non-trivial) for prepaid customers, and the term ‘churn’ should be defined carefully.  Also, prepaid is the most common model in India and southeast Asia, while postpaid is more common in Europe in North America.\n",
    "\n",
    "This project is based on the Indian and Southeast Asian market.\n",
    "\n",
    "## Definitions of Churn\n",
    "\n",
    "There are various ways to define churn, such as:\n",
    "\n",
    "#### Revenue-based churn: \n",
    "Customers who have not utilised any revenue-generating facilities such as mobile internet, outgoing calls, SMS etc. over a given period of time. One could also use aggregate metrics such as _**‘customers who have generated less than INR 4 per month in total/average/median revenue’**_.\n",
    "\n",
    "The main shortcoming of this definition is that there are customers who only receive calls/SMSes from their wage-earning counterparts, i.e. they don’t generate revenue but use the services. For example, many users in rural areas only receive calls from their wage-earning siblings in urban areas.\n",
    "\n",
    "#### Usage-based churn: \n",
    "Customers **who have not done any usage, either incoming or outgoing - in terms of calls, internet etc. over a period of time**.\n",
    "\n",
    "    A potential shortcoming of this definition is that when the customer has stopped using the services for a while, it may be too late to take any corrective actions to retain them. For e.g., if you define churn based on a ‘two-months zero usage’ period, predicting churn could be useless since by that time the customer would have already switched to another operator.\n",
    "\n",
    "In this project, you will use the **usage-based definition to define _churn_ **.\n",
    "\n",
    " \n",
    "### High-value Churn\n",
    "\n",
    "In the Indian and the southeast Asian market,\n",
    "\n",
    "    approximately 80% of revenue comes from the top 20% customers (called high-value customers). \n",
    "  \n",
    "Thus, if we can reduce churn of the high-value customers, we will be able to reduce significant revenue leakage.\n",
    "\n",
    "In this project, you will define high-value customers based on a certain metric (mentioned later below) and predict churn only on high-value customers.\n",
    "\n",
    " \n",
    "### Understanding the Business Objective and the Data\n",
    "\n",
    "The dataset contains customer-level information for a span of four consecutive months - June, July, August and September. The months are encoded as 6, 7, 8 and 9, respectively. \n",
    "\n",
    "\n",
    "The business objective is to predict the churn in the last (i.e. the ninth) month using the data (features) from the first three months. To do this task well, understanding the typical customer behaviour during churn will be helpful.\n",
    "\n",
    " \n",
    "### Understanding Customer Behaviour During Churn\n",
    "\n",
    "Customers usually do not decide to switch to another competitor instantly, but rather over a period of time (this is especially applicable to high-value customers). In churn prediction, we assume that there are three phases of customer lifecycle :\n",
    "\n",
    "    The ‘good’ phase: In this phase, the customer is happy with the service and behaves as usual.\n",
    "\n",
    "    The ‘action’ phase: The customer experience starts to sore in this phase, for e.g. he/she gets a compelling offer from a  competitor, faces unjust charges, becomes unhappy with service quality etc. In this phase, the customer usually shows different behaviour than the ‘good’ months. Also, it is crucial to identify high-churn-risk customers in this phase, since some corrective actions can be taken at this point (such as matching the competitor’s offer/improving the service quality etc.)\n",
    "\n",
    "    The ‘churn’ phase: In this phase, the customer is said to have churned. You define churn based on this phase. Also, it is important to note that at the time of prediction (i.e. the action months), this data is not available to you for prediction. Thus, after tagging churn as 1/0 based on this phase, you discard all data corresponding to this phase.\n",
    "\n",
    " \n",
    "\n",
    "In this case, since you are working over a four-month window, the first two months are the ‘good’ phase, the third month is the ‘action’ phase, while the fourth month is the ‘churn’ phase."
   ]
  },
  {
   "cell_type": "code",
   "execution_count": 1,
   "metadata": {
    "scrolled": false
   },
   "outputs": [],
   "source": [
    "import pandas as pd\n",
    "import seaborn as sns\n",
    "import numpy as np\n",
    "import matplotlib.pyplot as plt\n",
    "from sklearn.preprocessing import StandardScaler"
   ]
  },
  {
   "cell_type": "markdown",
   "metadata": {},
   "source": [
    "## Functions \n",
    "The space for user defined functions"
   ]
  },
  {
   "cell_type": "code",
   "execution_count": 169,
   "metadata": {
    "scrolled": false
   },
   "outputs": [],
   "source": [
    "def plot_triangular(corr):\n",
    "    mask = np.zeros_like(corr, dtype=np.bool)\n",
    "    mask[np.triu_indices_from(mask)] = True\n",
    "\n",
    "    # Set up the matplotlib figure\n",
    "    f, ax = plt.subplots(figsize=(11, 9))\n",
    "\n",
    "    # Generate a custom diverging colormap\n",
    "    cmap = sns.diverging_palette(220, 10, as_cmap=True)\n",
    "\n",
    "    # Draw the heatmap with the mask and correct aspect ratio\n",
    "    sns.heatmap(corr, mask=mask, cmap=cmap, vmax=.3, annot=False, center=0,\n",
    "                square=True, linewidths=.5, cbar_kws={\"shrink\": .5})\n"
   ]
  },
  {
   "cell_type": "code",
   "execution_count": 3,
   "metadata": {
    "scrolled": false
   },
   "outputs": [],
   "source": [
    "def plot_multiple_distributions(data, targets):\n",
    "    scale = StandardScaler(copy=False)\n",
    "    scaled_df = pd.DataFrame(scale.fit(data[targets]).transform(data[targets]), columns=targets)\n",
    "    for target in targets:\n",
    "        sns.distplot(scaled_df.loc[:, target], hist=False, rug=False, label=target)\n",
    "    return None\n",
    "    "
   ]
  },
  {
   "cell_type": "code",
   "execution_count": 4,
   "metadata": {
    "scrolled": false
   },
   "outputs": [],
   "source": [
    "import powerlaw\n",
    "def power_law_analysis(data, targets):\n",
    "    for target in targets:\n",
    "        results = powerlaw.Fit(data.loc[:, target])\n",
    "        print(results.power_law.alpha)\n",
    "        print(results.power_law.xmin)\n",
    "        R, p = results.distribution_compare('power_law', 'lognormal')"
   ]
  },
  {
   "cell_type": "markdown",
   "metadata": {},
   "source": [
    "   ## 1. Load the data\n",
    "Load the churn data for the telecom provider"
   ]
  },
  {
   "cell_type": "code",
   "execution_count": 5,
   "metadata": {
    "scrolled": false
   },
   "outputs": [],
   "source": [
    "churn_data = pd.read_csv('telecom_churn_data.csv')\n",
    "\n",
    "total_records = churn_data.shape[0]\n"
   ]
  },
  {
   "cell_type": "markdown",
   "metadata": {},
   "source": [
    "## 2. Missing value treatment"
   ]
  },
  {
   "cell_type": "code",
   "execution_count": 6,
   "metadata": {
    "scrolled": false
   },
   "outputs": [
    {
     "data": {
      "text/plain": [
       "count_rech_2g_6             74.85\n",
       "date_of_last_rech_data_6    74.85\n",
       "count_rech_3g_6             74.85\n",
       "av_rech_amt_data_6          74.85\n",
       "max_rech_data_6             74.85\n",
       "total_rech_data_6           74.85\n",
       "arpu_3g_6                   74.85\n",
       "arpu_2g_6                   74.85\n",
       "night_pck_user_6            74.85\n",
       "fb_user_6                   74.85\n",
       "arpu_3g_7                   74.43\n",
       "count_rech_2g_7             74.43\n",
       "fb_user_7                   74.43\n",
       "count_rech_3g_7             74.43\n",
       "arpu_2g_7                   74.43\n",
       "av_rech_amt_data_7          74.43\n",
       "max_rech_data_7             74.43\n",
       "night_pck_user_7            74.43\n",
       "total_rech_data_7           74.43\n",
       "date_of_last_rech_data_7    74.43\n",
       "night_pck_user_9            74.08\n",
       "date_of_last_rech_data_9    74.08\n",
       "fb_user_9                   74.08\n",
       "arpu_2g_9                   74.08\n",
       "max_rech_data_9             74.08\n",
       "arpu_3g_9                   74.08\n",
       "total_rech_data_9           74.08\n",
       "av_rech_amt_data_9          74.08\n",
       "count_rech_3g_9             74.08\n",
       "count_rech_2g_9             74.08\n",
       "fb_user_8                   73.66\n",
       "av_rech_amt_data_8          73.66\n",
       "count_rech_3g_8             73.66\n",
       "count_rech_2g_8             73.66\n",
       "date_of_last_rech_data_8    73.66\n",
       "total_rech_data_8           73.66\n",
       "max_rech_data_8             73.66\n",
       "arpu_3g_8                   73.66\n",
       "arpu_2g_8                   73.66\n",
       "night_pck_user_8            73.66\n",
       "dtype: float64"
      ]
     },
     "execution_count": 6,
     "metadata": {},
     "output_type": "execute_result"
    }
   ],
   "source": [
    "missing_value_percentage = round(100 * churn_data.isnull().sum().sort_values(ascending=False) / total_records, 2)\n",
    "missing_value_percentage[missing_value_percentage > 50.0]"
   ]
  },
  {
   "cell_type": "code",
   "execution_count": 7,
   "metadata": {
    "scrolled": false
   },
   "outputs": [],
   "source": [
    "non_kpis_to_be_imputed =['max_rech_data_6', 'max_rech_data_7',  'max_rech_data_8', 'max_rech_data_9']\n",
    "#This valuses doesnpt drive the KPI will replace by zero as per instruction\n",
    "churn_data[non_kpis_to_be_imputed] = churn_data[non_kpis_to_be_imputed].fillna(0, axis=1)\n",
    "\n",
    "#impute the categorical variable NaN with -1\n",
    "cat_variables_to_be_imputed = ['night_pck_user_6', 'night_pck_user_7',\n",
    "                               'night_pck_user_8', 'night_pck_user_9',\n",
    "                               'fb_user_6', 'fb_user_7',\n",
    "                               'fb_user_8', 'fb_user_9']\n",
    "churn_data[cat_variables_to_be_imputed] = churn_data[cat_variables_to_be_imputed].fillna(-1, axis=1)"
   ]
  },
  {
   "cell_type": "code",
   "execution_count": 8,
   "metadata": {
    "scrolled": false
   },
   "outputs": [],
   "source": [
    "#date dependant missing values\n",
    "kpis_imputed_wrt_date = dict( date_of_last_rech_data_6 = ['total_rech_data_6', \n",
    "                                                          'count_rech_2g_6', \n",
    "                                                          'count_rech_3g_6', 'av_rech_amt_data_6' ],\n",
    "                             date_of_last_rech_data_7 = ['total_rech_data_7', \n",
    "                                                          'count_rech_2g_7', \n",
    "                                                          'count_rech_3g_7', 'av_rech_amt_data_7' ], \n",
    "                             date_of_last_rech_data_8 = ['total_rech_data_8', \n",
    "                                                          'count_rech_2g_8', \n",
    "                                                          'count_rech_3g_8', 'av_rech_amt_data_8'],\n",
    "                             date_of_last_rech_data_9 = ['total_rech_data_9', \n",
    "                                                          'count_rech_2g_9', \n",
    "                                                          'count_rech_3g_9', 'av_rech_amt_data_9'])\n"
   ]
  },
  {
   "cell_type": "code",
   "execution_count": 9,
   "metadata": {
    "scrolled": false
   },
   "outputs": [],
   "source": [
    "\n",
    "#churn_data_clone = churn_data.copy()\n",
    "#Replace the date related values if date is present 1 else 0\n",
    "for date, fields in kpis_imputed_wrt_date.items():\n",
    "    churn_data.loc[churn_data[date].isnull(), fields] = churn_data.loc[churn_data[date].isnull(), fields].fillna(0)\n",
    "    churn_data.loc[churn_data[date].notnull(), fields] = churn_data.loc[churn_data[date].notnull(), fields].fillna(1)\n",
    "        \n"
   ]
  },
  {
   "cell_type": "code",
   "execution_count": 10,
   "metadata": {
    "scrolled": false
   },
   "outputs": [],
   "source": [
    "#Now we can drop the date related data\n",
    "date_cols = [col for col in churn_data.columns if 'date' in col.lower() ]\n",
    "churn_data.drop(labels=date_cols, axis=1,  inplace=True, errors='ignore')"
   ]
  },
  {
   "cell_type": "code",
   "execution_count": 11,
   "metadata": {},
   "outputs": [],
   "source": [
    "#Now drop the mobile number\n",
    "churn_data.drop(columns=['mobile_number'],inplace=True)"
   ]
  },
  {
   "cell_type": "code",
   "execution_count": 12,
   "metadata": {
    "scrolled": false
   },
   "outputs": [],
   "source": [
    "unique_val_cols=churn_data.nunique(dropna=False).sort_values()\n",
    "single_value_cols = unique_val_cols[unique_val_cols < 3].index.values\n",
    "#Drop the columns with single value or null since this is not going to add any information for training\n",
    "churn_data.drop(labels=single_value_cols, axis=1, inplace=True)"
   ]
  },
  {
   "cell_type": "code",
   "execution_count": 13,
   "metadata": {
    "scrolled": false
   },
   "outputs": [],
   "source": [
    "#churn_data.loc[:, categorical_vars].fillna(churn_data)\n",
    "#Replace the rest of missing data with mediam\n",
    "churn_data_clone = churn_data.copy()\n",
    "churn_data.fillna(value=churn_data.median(), inplace=True)\n"
   ]
  },
  {
   "cell_type": "code",
   "execution_count": 14,
   "metadata": {
    "scrolled": false
   },
   "outputs": [
    {
     "name": "stdout",
     "output_type": "stream",
     "text": [
      "The number records with missing values : 0\n"
     ]
    }
   ],
   "source": [
    "missing_values = churn_data.isnull().sum()\n",
    "print(\"The number records with missing values :\", missing_values[missing_values!=0].shape[0])"
   ]
  },
  {
   "cell_type": "markdown",
   "metadata": {},
   "source": [
    "## 3. Derived features\n",
    "Now that dealt with the missing data now we can look into derived features"
   ]
  },
  {
   "cell_type": "code",
   "execution_count": 15,
   "metadata": {
    "scrolled": false
   },
   "outputs": [],
   "source": [
    "hv_kpis = ['total_rech_amt_6', 'total_rech_amt_7', \n",
    "           'total_rech_data_6', 'total_rech_data_7', \n",
    "           'av_rech_amt_data_6', 'av_rech_amt_data_7']\n",
    "churn_data['hv_index'] = churn_data[hv_kpis].mean(axis=1)\n",
    "hv_filtered = False"
   ]
  },
  {
   "cell_type": "code",
   "execution_count": 16,
   "metadata": {
    "scrolled": false
   },
   "outputs": [],
   "source": [
    "\n",
    "if not hv_filtered :\n",
    "    churn_data = churn_data[churn_data.hv_index >= churn_data.hv_index.quantile(0.7)]\n",
    "    hv_filtered = True\n"
   ]
  },
  {
   "cell_type": "code",
   "execution_count": 17,
   "metadata": {
    "scrolled": false
   },
   "outputs": [],
   "source": [
    "month_wise_data = dict()\n",
    "month_wise_data['jun'] = churn_data.filter(regex='(_6$|^jun_)')\n",
    "month_wise_data['jul'] = churn_data.filter(regex='(_7$|^jul_)')\n",
    "month_wise_data['aug'] = churn_data.filter(regex='(_8$|^aug_)')\n",
    "month_wise_data['sep'] = churn_data.filter(regex='(_9$|^sep_)')"
   ]
  },
  {
   "cell_type": "code",
   "execution_count": 18,
   "metadata": {},
   "outputs": [],
   "source": [
    "for mon, m_data in month_wise_data.items():\n",
    "    keys = ['t2t', 't2c', 't2m', 't2o', 't2f', 'isd', 'roam', 'vol', 'vbc' ]\n",
    "    for key in keys:\n",
    "        churn_data[key+'_total_'+mon] = churn_data.filter(like=key).sum(axis=1)\n",
    "\n"
   ]
  },
  {
   "cell_type": "code",
   "execution_count": 19,
   "metadata": {
    "scrolled": false
   },
   "outputs": [
    {
     "name": "stdout",
     "output_type": "stream",
     "text": [
      "Overall churn rate 8.19%\n"
     ]
    }
   ],
   "source": [
    "\n",
    "\n",
    "churn_indicator = ['total_ic_mou_9', 'total_og_mou_9', 'vol_3g_mb_9', 'vol_2g_mb_9']\n",
    "#churn_data.loc[:, 'churned'] = churn_data.loc[:, churn_indicator].su\n",
    "churn_data['churn'] = churn_data.loc[:, churn_indicator].sum(axis=1).apply(lambda x: 1 if x == 0 else 0)\n",
    "print('Overall churn rate {}%'.format(round(100*churn_data['churn'].sum()/churn_data['churn'].shape[0], 2)))\n",
    "churn_phase_features_dropped =  False"
   ]
  },
  {
   "cell_type": "markdown",
   "metadata": {},
   "source": [
    "### Dropping the churn phase features\n"
   ]
  },
  {
   "cell_type": "code",
   "execution_count": 20,
   "metadata": {},
   "outputs": [],
   "source": [
    "\n",
    "if not churn_phase_features_dropped:\n",
    "    churn_phase_cols =  churn_data.filter(like='_9').columns\n",
    "    churn_data.drop(columns=churn_phase_cols,  inplace=True )\n",
    "    churn_phase_features_dropped = True"
   ]
  },
  {
   "cell_type": "markdown",
   "metadata": {},
   "source": [
    "## Identifying the Categorical variables"
   ]
  },
  {
   "cell_type": "code",
   "execution_count": 21,
   "metadata": {
    "scrolled": false
   },
   "outputs": [
    {
     "name": "stdout",
     "output_type": "stream",
     "text": [
      "Possible categorical variables \n",
      " ['t2o_total_jul' 't2o_total_sep' 't2o_total_jun' 't2o_total_aug'\n",
      " 'fb_user_8' 'fb_user_7' 'night_pck_user_6' 'fb_user_6' 'night_pck_user_8'\n",
      " 'night_pck_user_7' 'monthly_2g_6' 'monthly_2g_7' 'monthly_2g_8'\n",
      " 'monthly_3g_8' 'monthly_3g_6' 'monthly_3g_7' 'count_rech_3g_6'\n",
      " 'sachet_3g_6' 'sachet_3g_7' 'count_rech_3g_7' 'sachet_3g_8'\n",
      " 'count_rech_3g_8' 'count_rech_2g_6' 'sachet_2g_6' 'count_rech_2g_8'\n",
      " 'sachet_2g_8']\n",
      "Selected categorical variables \n",
      " ['t2o_total_jul', 't2o_total_sep', 't2o_total_jun', 't2o_total_aug', 'fb_user_8', 'fb_user_7', 'night_pck_user_6', 'fb_user_6', 'night_pck_user_8', 'night_pck_user_7', 'monthly_2g_6', 'monthly_2g_7', 'monthly_2g_8', 'monthly_3g_8', 'monthly_3g_6', 'monthly_3g_7', 'sachet_3g_6', 'sachet_3g_7', 'sachet_3g_8', 'sachet_2g_6', 'sachet_2g_8']\n"
     ]
    }
   ],
   "source": [
    "#Let's check the other categorical data \n",
    "unique_val_cols=churn_data.loc[:, churn_data.columns != 'churn'].nunique().sort_values()\n",
    "#Get the features with atmost 35 unique values. 35 is just a jueristics\n",
    "possible_cat_vars = unique_val_cols[unique_val_cols < 35].index.values\n",
    "print(\"Possible categorical variables \\n\", possible_cat_vars)\n",
    "#In Consulation with data dictionary the excluding the count_* features since they are quantile in nature\n",
    "categorical_vars = [var for var in possible_cat_vars if 'count_' not in var]\n",
    "print(\"Selected categorical variables \\n\", categorical_vars)"
   ]
  },
  {
   "cell_type": "markdown",
   "metadata": {},
   "source": [
    "## 3. Feature Analysis\n",
    "Treating outlier values"
   ]
  },
  {
   "cell_type": "code",
   "execution_count": 22,
   "metadata": {
    "scrolled": false
   },
   "outputs": [],
   "source": [
    "business_features = ['arpu_(6|7|8|9)', 'mou', 'amt', 'vol', 'vbc']\n",
    "length = len(business_features)"
   ]
  },
  {
   "cell_type": "raw",
   "metadata": {
    "scrolled": false
   },
   "source": [
    "#for mon, mon_data in month_wise_data.items():\n",
    "%matplotlib inline\n",
    "\n",
    "for feature in business_features:\n",
    "    plt.figure(figsize=(10,10))\n",
    "    feature_df = churn_data.filter(regex=feature)\n",
    "    plot_multiple_distributions(feature_df, feature_df.columns.values)\n",
    "   \n",
    "    "
   ]
  },
  {
   "cell_type": "markdown",
   "metadata": {},
   "source": [
    "The above distributions are more of **Heavy Tailed Distribution**  for the feature  variables"
   ]
  },
  {
   "cell_type": "raw",
   "metadata": {
    "scrolled": false
   },
   "source": [
    "for feature in business_features:\n",
    "    feature_df = churn_data.filter(regex=feature)\n",
    "    print(feature_df.describe())\n",
    "    print('\\n', feature_df.median(), '\\n')\n",
    "    "
   ]
  },
  {
   "cell_type": "code",
   "execution_count": null,
   "metadata": {},
   "outputs": [],
   "source": []
  },
  {
   "cell_type": "markdown",
   "metadata": {
    "scrolled": false
   },
   "source": [
    "# Data modelling\n",
    "## 1. Principle Component Analysis\n",
    "### a. Data transformation of categorical variables \n",
    "For categorical variable replace the category with churn rate associated with group"
   ]
  },
  {
   "cell_type": "code",
   "execution_count": 152,
   "metadata": {},
   "outputs": [],
   "source": [
    "#Create Copy of churn_data for further PCA  analysis\n",
    "pca_churn_data = churn_data.copy()\n",
    "#pca_churn_data.to_csv('pre_pca_churn_data.csv')"
   ]
  },
  {
   "cell_type": "markdown",
   "metadata": {},
   "source": [
    "For categorical features are grouped with *churn* and are grouped for mean\n",
    "since the churn rate per group  is :\n",
    "\n",
    "$$Rate_{churn} = \\frac{freq(churn_{group})}{size_{group}}$$ \n",
    "$$\\therefore  Rate_{churn} = \\frac{\\sum_{i=1}^{n}C_i}{n},  \\forall C_i \\in \\{0,1\\}$$\n",
    "where *n* is the cardinality of the group\n"
   ]
  },
  {
   "cell_type": "code",
   "execution_count": 153,
   "metadata": {},
   "outputs": [],
   "source": [
    "predicted_val = 'churn'\n",
    "#Convert the categorical values into the churn rate per group \n",
    "#Generate a replacable dictionary from the category values to the nominal rate\n",
    "for cat_var in categorical_vars:\n",
    "    churn_rate_replace_dict =  churn_data[[cat_var, predicted_val]].groupby(cat_var).mean().to_dict()[predicted_val]\n",
    "    pca_churn_data[cat_var] =  pca_churn_data[cat_var].replace(churn_rate_replace_dict)"
   ]
  },
  {
   "cell_type": "markdown",
   "metadata": {},
   "source": [
    "### b. Standardizing data"
   ]
  },
  {
   "cell_type": "code",
   "execution_count": 154,
   "metadata": {},
   "outputs": [],
   "source": [
    "scale = StandardScaler(copy=False)\n",
    "cols_to_standardize = pca_churn_data.loc[:, pca_churn_data.columns != 'churn'].columns\n",
    "data_to_standardize = pca_churn_data[cols_to_standardize]\n",
    "churn_frame = pca_churn_data['churn']\n",
    "pca_churn_data = pd.DataFrame(scale.fit(data_to_standardize)\n",
    "                                                          .transform(data_to_standardize),\n",
    "                                  columns=cols_to_standardize, index=churn_frame.index)\n",
    "\n",
    "pca_churn_data['churn'] = churn_frame\n"
   ]
  },
  {
   "cell_type": "code",
   "execution_count": 155,
   "metadata": {},
   "outputs": [
    {
     "data": {
      "text/plain": [
       "Series([], dtype: float64)"
      ]
     },
     "execution_count": 155,
     "metadata": {},
     "output_type": "execute_result"
    }
   ],
   "source": [
    "#pca_churn_data.isnull().sum()\n",
    "null_columns=std_pca_churn_data.columns[std_pca_churn_data.isnull().any()]\n",
    "std_pca_churn_data[null_columns].isnull().sum().head(5)"
   ]
  },
  {
   "cell_type": "markdown",
   "metadata": {},
   "source": [
    "The data available is highly imbalanced and needs to be resampled "
   ]
  },
  {
   "cell_type": "code",
   "execution_count": 156,
   "metadata": {},
   "outputs": [],
   "source": [
    "from sklearn.utils import resample\n",
    "data_majority = pca_churn_data[pca_churn_data.churn==0]\n",
    "data_minority = pca_churn_data[pca_churn_data.churn==1]\n",
    "\n",
    "df_minority_upsampled = resample(data_minority, replace=True, \n",
    "                                 n_samples=data_majority.shape[0], random_state=100)\n",
    "pca_churn_data = pd.concat([df_minority_upsampled, data_majority])\n",
    "pca_churn_data = pca_churn_data.sample(frac=1).reset_index(drop=True)"
   ]
  },
  {
   "cell_type": "markdown",
   "metadata": {},
   "source": [
    "### c. Split the data for training and validation"
   ]
  },
  {
   "cell_type": "code",
   "execution_count": 157,
   "metadata": {},
   "outputs": [],
   "source": [
    "from sklearn.model_selection import train_test_split\n",
    "\n",
    "# Putting feature variable to X\n",
    "X = pca_churn_data.drop(['churn'],axis=1)\n",
    "\n",
    "# Putting response variable to y\n",
    "y = pca_churn_data['churn']\n",
    "# Splitting the data into train and test\n",
    "X_train, X_test, y_train, y_test = train_test_split(X,y, train_size=0.7,test_size=0.3,random_state=100)"
   ]
  },
  {
   "cell_type": "code",
   "execution_count": 158,
   "metadata": {},
   "outputs": [
    {
     "name": "stdout",
     "output_type": "stream",
     "text": [
      "Train shape:(38558, 189)\n",
      "Test Shape=(16526, 189)\n"
     ]
    }
   ],
   "source": [
    "print('Train shape:{}\\nTest Shape={}'.format(X_train.shape, X_test.shape))"
   ]
  },
  {
   "cell_type": "markdown",
   "metadata": {},
   "source": [
    "### d. PCA Analysis"
   ]
  },
  {
   "cell_type": "code",
   "execution_count": 159,
   "metadata": {},
   "outputs": [],
   "source": [
    "from sklearn.decomposition import PCA\n",
    "pca = PCA(svd_solver='randomized', random_state=42)"
   ]
  },
  {
   "cell_type": "code",
   "execution_count": 160,
   "metadata": {},
   "outputs": [
    {
     "data": {
      "text/plain": [
       "PCA(copy=True, iterated_power='auto', n_components=None, random_state=42,\n",
       "  svd_solver='randomized', tol=0.0, whiten=False)"
      ]
     },
     "execution_count": 160,
     "metadata": {},
     "output_type": "execute_result"
    }
   ],
   "source": [
    "#Doing the PCA on the train data\n",
    "pca.fit(X_train)"
   ]
  },
  {
   "cell_type": "code",
   "execution_count": 161,
   "metadata": {},
   "outputs": [],
   "source": [
    "colnames = list(X_train.columns)\n",
    "pcs_df = pd.DataFrame({'PC1':pca.components_[0],'PC2':pca.components_[1], 'Feature':colnames})"
   ]
  },
  {
   "cell_type": "code",
   "execution_count": 162,
   "metadata": {},
   "outputs": [
    {
     "data": {
      "image/png": "[encoded data removed]",
      "text/plain": [
       "<Figure size 576x576 with 1 Axes>"
      ]
     },
     "metadata": {},
     "output_type": "display_data"
    }
   ],
   "source": [
    "import matplotlib.pyplot as plt\n",
    "%matplotlib inline\n",
    "fig = plt.figure(figsize = (8,8))\n",
    "plt.scatter(pcs_df.PC1, pcs_df.PC2)\n",
    "plt.xlabel('Principal Component 1')\n",
    "plt.ylabel('Principal Component 2')\n",
    "for i, txt in enumerate(pcs_df.Feature):\n",
    "    plt.annotate(txt, (pcs_df.PC1[i],pcs_df.PC2[i]))\n",
    "plt.tight_layout()\n",
    "plt.show()"
   ]
  },
  {
   "cell_type": "code",
   "execution_count": 163,
   "metadata": {},
   "outputs": [
    {
     "data": {
      "image/png": "[encoded data removed]",
      "text/plain": [
       "<Figure size 864x576 with 1 Axes>"
      ]
     },
     "metadata": {},
     "output_type": "display_data"
    }
   ],
   "source": [
    "#Making the screeplot - plotting the cumulative variance against the number of components\n",
    "%matplotlib inline\n",
    "fig = plt.figure(figsize = (12,8))\n",
    "plt.plot(np.cumsum(pca.explained_variance_ratio_))\n",
    "plt.xlabel('number of components')\n",
    "plt.ylabel('cumulative explained variance')\n",
    "plt.show()"
   ]
  },
  {
   "cell_type": "code",
   "execution_count": 164,
   "metadata": {},
   "outputs": [],
   "source": [
    "#Using incremental PCA for efficiency - saves a lot of time on larger datasets\n",
    "from sklearn.decomposition import IncrementalPCA\n",
    "pca_final = IncrementalPCA(n_components=50)"
   ]
  },
  {
   "cell_type": "code",
   "execution_count": 165,
   "metadata": {},
   "outputs": [
    {
     "data": {
      "text/plain": [
       "(38558, 50)"
      ]
     },
     "execution_count": 165,
     "metadata": {},
     "output_type": "execute_result"
    }
   ],
   "source": [
    "df_train_pca = pca_final.fit_transform(X_train)\n",
    "df_train_pca.shape"
   ]
  },
  {
   "cell_type": "code",
   "execution_count": 170,
   "metadata": {},
   "outputs": [
    {
     "data": {
      "text/plain": [
       "<Figure size 1440x720 with 0 Axes>"
      ]
     },
     "metadata": {},
     "output_type": "display_data"
    },
    {
     "data": {
      "image/png": "[encoded data removed]",
      "text/plain": [
       "<Figure size 792x648 with 2 Axes>"
      ]
     },
     "metadata": {},
     "output_type": "display_data"
    }
   ],
   "source": [
    "#creating correlation matrix for the principal components\n",
    "corr = np.corrcoef(df_train_pca.transpose())\n",
    "plt.figure(figsize = (20,10))\n",
    "plot_triangular(corr)\n"
   ]
  },
  {
   "cell_type": "code",
   "execution_count": 174,
   "metadata": {},
   "outputs": [
    {
     "name": "stdout",
     "output_type": "stream",
     "text": [
      "max corr: 0.019506836625969453 , min corr:  -0.006932878947496909\n"
     ]
    }
   ],
   "source": [
    "# 1s -> 0s in diagonals\n",
    "corrmat_nodiag = corrmat - np.diagflat(corrmat.diagonal())\n",
    "print(\"max corr:\",corrmat_nodiag.max(), \", min corr: \", corrmat_nodiag.min(),)"
   ]
  },
  {
   "cell_type": "code",
   "execution_count": 175,
   "metadata": {},
   "outputs": [],
   "source": [
    "df_test_pca = pca_final.transform(X_test)"
   ]
  },
  {
   "cell_type": "markdown",
   "metadata": {},
   "source": [
    "#### Run a plain logistic regression  with obtained component"
   ]
  },
  {
   "cell_type": "code",
   "execution_count": 176,
   "metadata": {},
   "outputs": [],
   "source": [
    "#Training the model on the train data\n",
    "from sklearn.linear_model import LogisticRegression\n",
    "from sklearn import metrics\n",
    "\n",
    "learner_pca_logistic = LogisticRegression()\n",
    "model_pca_logistic = learner_pca_logistic.fit(df_train_pca,y_train)"
   ]
  },
  {
   "cell_type": "code",
   "execution_count": 178,
   "metadata": {},
   "outputs": [
    {
     "data": {
      "text/plain": [
       "'0.9'"
      ]
     },
     "execution_count": 178,
     "metadata": {},
     "output_type": "execute_result"
    }
   ],
   "source": [
    "#Making prediction on the test data\n",
    "pred_probs_test = model_pca_logistic.predict_proba(df_test_pca)[:,1]\n",
    "\"{:2.2}\".format(metrics.roc_auc_score(y_test, pred_probs_test))"
   ]
  },
  {
   "cell_type": "markdown",
   "metadata": {},
   "source": [
    "# 6. Model Evaluation\n",
    "## 1. Logical Regression"
   ]
  },
  {
   "cell_type": "code",
   "execution_count": 180,
   "metadata": {},
   "outputs": [
    {
     "data": {
      "text/plain": [
       "'0.90'"
      ]
     },
     "execution_count": 180,
     "metadata": {},
     "output_type": "execute_result"
    }
   ],
   "source": [
    "churn_lr_pca = PCA(0.90)\n",
    "churn_lr_pca_train = churn_lr_pca.fit_transform(X_train)\n",
    "\n",
    "#training the regression model\n",
    "chur_lr_pca_regressor = LogisticRegression()\n",
    "lr_pca_model_2 = chur_lr_pca_regressor.fit(churn_lr_pca_train,y_train)\n",
    "\n",
    "churn_lr_pca_test = churn_lr_pca.transform(X_test)\n",
    "\n",
    "\n",
    "#Making prediction on the test data\n",
    "pred_probs_test2 = lr_pca_model_2.predict_proba(churn_lr_pca_test)[:,1]\n",
    "\"{:2.2f}\".format(metrics.roc_auc_score(y_test, pred_probs_test2))"
   ]
  },
  {
   "cell_type": "code",
   "execution_count": null,
   "metadata": {},
   "outputs": [],
   "source": []
  }
 ],
 "metadata": {
  "kernelspec": {
   "display_name": "Python 3",
   "language": "python",
   "name": "python3"
  },
  "language_info": {
   "codemirror_mode": {
    "name": "ipython",
    "version": 3
   },
   "file_extension": ".py",
   "mimetype": "text/x-python",
   "name": "python",
   "nbconvert_exporter": "python",
   "pygments_lexer": "ipython3",
   "version": "3.6.6"
  }
 },
 "nbformat": 4,
 "nbformat_minor": 2
}
